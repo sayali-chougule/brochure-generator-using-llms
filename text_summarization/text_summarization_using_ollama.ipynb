{
 "cells": [
  {
   "cell_type": "code",
   "execution_count": 1,
   "id": "cd51e32f-568d-4cf4-98f1-57514d3ae219",
   "metadata": {},
   "outputs": [],
   "source": [
    "# imports\n",
    "\n",
    "import requests\n",
    "from bs4 import BeautifulSoup\n",
    "from IPython.display import Markdown, display"
   ]
  },
  {
   "cell_type": "code",
   "execution_count": 2,
   "id": "93409613-e914-4cea-84a9-3019f5fd41e5",
   "metadata": {},
   "outputs": [],
   "source": [
    "#Constants\n",
    "\n",
    "OLLAMA_API = \"http://localhost:11434/api/chat\"\n",
    "HEADERS = {\"Content-Type\": \"application/json\"}\n",
    "MODEL = 'llama3.2'"
   ]
  },
  {
   "cell_type": "code",
   "execution_count": 3,
   "id": "5030b9d9-2240-4dd9-bca1-33b5e72199a5",
   "metadata": {},
   "outputs": [],
   "source": [
    "messages = [\n",
    "    {\"role\": \"user\", \"content\": \"Describe some of the business applications of GenAI\"}\n",
    "]"
   ]
  },
  {
   "cell_type": "code",
   "execution_count": 4,
   "id": "b1077032-4d7f-4664-aa15-57ed5ca57a17",
   "metadata": {},
   "outputs": [],
   "source": [
    "payload = {\n",
    "    \"model\": MODEL, \n",
    "    \"messages\": messages,\n",
    "    \"stream\": False\n",
    "}"
   ]
  },
  {
   "cell_type": "code",
   "execution_count": 5,
   "id": "70cf2ea1-7040-4170-9a7f-9d3d478df1e9",
   "metadata": {},
   "outputs": [
    {
     "name": "stdout",
     "output_type": "stream",
     "text": [
      "GenAI, short for General Artificial Intelligence, refers to a type of AI that can perform a wide range of tasks across various industries and domains. Some potential business applications of GenAI include:\n",
      "\n",
      "1. **Virtual Customer Assistants**: GenAI-powered chatbots can be integrated into companies' customer service platforms to provide 24/7 support, answering frequent questions, and helping customers with simple queries.\n",
      "2. **Predictive Maintenance**: GenAI algorithms can analyze sensor data from machines and predict when maintenance is required, reducing downtime and increasing overall efficiency.\n",
      "3. **Supply Chain Optimization**: GenAI can optimize supply chain operations by analyzing data on demand, inventory levels, and transportation routes to minimize costs and maximize efficiency.\n",
      "4. **Marketing Automation**: GenAI-powered tools can help automate marketing campaigns, personalize content, and predict customer behavior based on their interactions with the brand.\n",
      "5. **Risk Analysis**: GenAI algorithms can analyze large amounts of financial data to identify potential risks and opportunities for investment, helping companies make informed decisions.\n",
      "6. **Product Development**: GenAI can assist product designers by analyzing user feedback, market trends, and competitor analysis to inform product development decisions.\n",
      "7. **Cybersecurity Threat Detection**: GenAI-powered tools can analyze network traffic patterns and detect potential cybersecurity threats in real-time, reducing the risk of data breaches.\n",
      "8. **Content Generation**: GenAI algorithms can generate high-quality content such as articles, social media posts, and even entire books, saving time and resources for content creators.\n",
      "9. **Predictive Analytics**: GenAI-powered predictive models can analyze historical data to forecast future trends and outcomes in various industries, enabling companies to make more informed decisions.\n",
      "10. **Autonomous Vehicles**: GenAI is being explored as a key technology for developing autonomous vehicles that can navigate complex environments and respond to unexpected situations.\n",
      "\n",
      "These are just a few examples of the many business applications of GenAI. As the technology continues to evolve, we can expect to see even more innovative solutions emerge across various industries.\n"
     ]
    }
   ],
   "source": [
    "response = requests.post(OLLAMA_API, json=payload, headers=HEADERS)\n",
    "print(response.json()['message']['content'])"
   ]
  },
  {
   "cell_type": "code",
   "execution_count": 20,
   "id": "7c8b8c31-83ac-4c6d-9438-4af7312c053b",
   "metadata": {},
   "outputs": [
    {
     "name": "stdout",
     "output_type": "stream",
     "text": [
      "GenAI, short for General Artificial Intelligence, refers to a hypothetical AI system that possesses human-like intelligence and is capable of performing any intellectual task that humans can. While GenAI is still in the realm of science fiction, its potential applications are vast and varied. Here are some possible business applications of GenAI:\n",
      "\n",
      "1. **Virtual Assistants**: GenAI-powered virtual assistants could revolutionize customer service, providing personalized support and answering complex questions with ease.\n",
      "2. **Content Generation**: GenAI can generate high-quality content such as articles, social media posts, and even entire books, freeing up human writers to focus on higher-level creative tasks.\n",
      "3. **Predictive Maintenance**: GenAI-powered predictive maintenance systems can analyze sensor data from industrial equipment and predict when maintenance is required, reducing downtime and increasing overall efficiency.\n",
      "4. **Risk Analysis**: GenAI can analyze vast amounts of financial data to identify potential risks and provide recommendations for mitigating them.\n",
      "5. **Chatbots**: GenAI-powered chatbots can engage in complex conversations with humans, providing personalized support and answering questions on a wide range of topics.\n",
      "6. **Cybersecurity**: GenAI-powered systems can detect and respond to cyber threats in real-time, protecting sensitive data and preventing breaches.\n",
      "7. **Personalized Marketing**: GenAI can analyze customer behavior and preferences to provide personalized marketing messages, increasing the effectiveness of advertising campaigns.\n",
      "8. **Supply Chain Optimization**: GenAI can optimize supply chain operations by analyzing logistics data, predicting demand, and identifying bottlenecks in the supply chain.\n",
      "9. **Medical Diagnosis**: GenAI-powered systems can analyze medical images and diagnose diseases more accurately than human doctors, reducing errors and improving patient outcomes.\n",
      "10. **Autonomous Vehicles**: GenAI is a critical component of autonomous vehicles, enabling them to navigate complex roads and make decisions in real-time.\n",
      "\n",
      "While these applications are promising, it's essential to note that the development and deployment of GenAI systems are still in their early stages, and many technical challenges need to be addressed before they can be widely adopted.\n"
     ]
    }
   ],
   "source": [
    "# Same as above but with help of python's ollama lib\n",
    "\n",
    "import ollama\n",
    "\n",
    "response = ollama.chat(model=MODEL, messages=messages)\n",
    "print(response['message']['content'])"
   ]
  },
  {
   "cell_type": "code",
   "execution_count": null,
   "id": "708b68b5-eadd-4655-859d-29869a1ef91f",
   "metadata": {},
   "outputs": [],
   "source": []
  }
 ],
 "metadata": {
  "kernelspec": {
   "display_name": "llms",
   "language": "python",
   "name": "python3"
  },
  "language_info": {
   "codemirror_mode": {
    "name": "ipython",
    "version": 3
   },
   "file_extension": ".py",
   "mimetype": "text/x-python",
   "name": "python",
   "nbconvert_exporter": "python",
   "pygments_lexer": "ipython3",
   "version": "3.11.12"
  }
 },
 "nbformat": 4,
 "nbformat_minor": 5
}
